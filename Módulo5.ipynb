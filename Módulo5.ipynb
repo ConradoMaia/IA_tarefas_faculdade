{
  "nbformat": 4,
  "nbformat_minor": 0,
  "metadata": {
    "colab": {
      "provenance": [],
      "collapsed_sections": [
        "vk-kbZgFZRLv"
      ],
      "toc_visible": true
    },
    "kernelspec": {
      "name": "python3",
      "display_name": "Python 3"
    }
  },
  "cells": [
    {
      "cell_type": "markdown",
      "metadata": {
        "id": "KlcibMKA_a-j"
      },
      "source": [
        "# Módulo 5 - Aprendizado não-supervisionado e por reforço\n",
        "\n",
        "Neste notebook, implementaremos algoritmos de aprendizado não-supervisionado e por reforço. Na primeira parte, veremos a implementação do algoritmo k-means. Na segunda parte, veremos o algoritmo Q-learning. Em ambos os casos, o objetivo é entender como estes algoritmos funcionam. Ao final, você deverá realizar os exercícios propostos."
      ]
    },
    {
      "cell_type": "markdown",
      "metadata": {
        "id": "TqWhkCoq_jyp"
      },
      "source": [
        "## Parte 1 - Aprendizado não-supervisionado\n",
        "\n",
        "Vamos começar utilizando o algoritmo k-means para agrupar as amostras de plantas iris em três clusters sem utilizar os rótulos destas amostras. Utilizaremos a implementação do k-means disponível na biblioteca [scikit-learn](https://scikit-learn.org/stable/).\n",
        "\n",
        "Primeiramente, precisamos importar algumas bibliotecas."
      ]
    },
    {
      "cell_type": "code",
      "metadata": {
        "id": "VFECGWDaTlEr"
      },
      "source": [
        "import numpy as np\n",
        "import matplotlib.pyplot as plt\n",
        "from mpl_toolkits.mplot3d import Axes3D\n",
        "from sklearn.cluster import KMeans\n",
        "from sklearn import datasets\n",
        "from sklearn.metrics import confusion_matrix\n",
        "\n",
        "np.random.seed(98237)"
      ],
      "execution_count": 1,
      "outputs": []
    },
    {
      "cell_type": "markdown",
      "metadata": {
        "id": "EqYNhDXpY-Iq"
      },
      "source": [
        "Em seguida, podemos importar o dataset e fazer alguns pré-processamentos básicos."
      ]
    },
    {
      "cell_type": "code",
      "metadata": {
        "id": "-HEEVn-HTmlV"
      },
      "source": [
        "iris = datasets.load_iris()\n",
        "X = iris.data\n",
        "y = iris.target"
      ],
      "execution_count": 2,
      "outputs": []
    },
    {
      "cell_type": "markdown",
      "metadata": {
        "id": "ZgoZtVABZEBe"
      },
      "source": [
        "Nosso próximo passo é executar o algoritmo k-means. Para isso, podemos criar uma instância do algoritmo especificando o número de clusters desejados. Em seguida, basta chamar o método `fit`, que recebe os dados (`X`) e executa o algoritmo."
      ]
    },
    {
      "cell_type": "code",
      "metadata": {
        "id": "cwugD35qTopc",
        "colab": {
          "base_uri": "https://localhost:8080/",
          "height": 81
        },
        "outputId": "a3238e7b-b936-40c2-85a4-e6f7aaf78795"
      },
      "source": [
        "k = 3\n",
        "kmeans = KMeans(n_clusters=k)\n",
        "kmeans.fit(X)"
      ],
      "execution_count": 3,
      "outputs": [
        {
          "output_type": "execute_result",
          "data": {
            "text/plain": [
              "KMeans(n_clusters=3)"
            ],
            "text/html": [
              "<style>#sk-container-id-1 {\n",
              "  /* Definition of color scheme common for light and dark mode */\n",
              "  --sklearn-color-text: black;\n",
              "  --sklearn-color-line: gray;\n",
              "  /* Definition of color scheme for unfitted estimators */\n",
              "  --sklearn-color-unfitted-level-0: #fff5e6;\n",
              "  --sklearn-color-unfitted-level-1: #f6e4d2;\n",
              "  --sklearn-color-unfitted-level-2: #ffe0b3;\n",
              "  --sklearn-color-unfitted-level-3: chocolate;\n",
              "  /* Definition of color scheme for fitted estimators */\n",
              "  --sklearn-color-fitted-level-0: #f0f8ff;\n",
              "  --sklearn-color-fitted-level-1: #d4ebff;\n",
              "  --sklearn-color-fitted-level-2: #b3dbfd;\n",
              "  --sklearn-color-fitted-level-3: cornflowerblue;\n",
              "\n",
              "  /* Specific color for light theme */\n",
              "  --sklearn-color-text-on-default-background: var(--sg-text-color, var(--theme-code-foreground, var(--jp-content-font-color1, black)));\n",
              "  --sklearn-color-background: var(--sg-background-color, var(--theme-background, var(--jp-layout-color0, white)));\n",
              "  --sklearn-color-border-box: var(--sg-text-color, var(--theme-code-foreground, var(--jp-content-font-color1, black)));\n",
              "  --sklearn-color-icon: #696969;\n",
              "\n",
              "  @media (prefers-color-scheme: dark) {\n",
              "    /* Redefinition of color scheme for dark theme */\n",
              "    --sklearn-color-text-on-default-background: var(--sg-text-color, var(--theme-code-foreground, var(--jp-content-font-color1, white)));\n",
              "    --sklearn-color-background: var(--sg-background-color, var(--theme-background, var(--jp-layout-color0, #111)));\n",
              "    --sklearn-color-border-box: var(--sg-text-color, var(--theme-code-foreground, var(--jp-content-font-color1, white)));\n",
              "    --sklearn-color-icon: #878787;\n",
              "  }\n",
              "}\n",
              "\n",
              "#sk-container-id-1 {\n",
              "  color: var(--sklearn-color-text);\n",
              "}\n",
              "\n",
              "#sk-container-id-1 pre {\n",
              "  padding: 0;\n",
              "}\n",
              "\n",
              "#sk-container-id-1 input.sk-hidden--visually {\n",
              "  border: 0;\n",
              "  clip: rect(1px 1px 1px 1px);\n",
              "  clip: rect(1px, 1px, 1px, 1px);\n",
              "  height: 1px;\n",
              "  margin: -1px;\n",
              "  overflow: hidden;\n",
              "  padding: 0;\n",
              "  position: absolute;\n",
              "  width: 1px;\n",
              "}\n",
              "\n",
              "#sk-container-id-1 div.sk-dashed-wrapped {\n",
              "  border: 1px dashed var(--sklearn-color-line);\n",
              "  margin: 0 0.4em 0.5em 0.4em;\n",
              "  box-sizing: border-box;\n",
              "  padding-bottom: 0.4em;\n",
              "  background-color: var(--sklearn-color-background);\n",
              "}\n",
              "\n",
              "#sk-container-id-1 div.sk-container {\n",
              "  /* jupyter's `normalize.less` sets `[hidden] { display: none; }`\n",
              "     but bootstrap.min.css set `[hidden] { display: none !important; }`\n",
              "     so we also need the `!important` here to be able to override the\n",
              "     default hidden behavior on the sphinx rendered scikit-learn.org.\n",
              "     See: https://github.com/scikit-learn/scikit-learn/issues/21755 */\n",
              "  display: inline-block !important;\n",
              "  position: relative;\n",
              "}\n",
              "\n",
              "#sk-container-id-1 div.sk-text-repr-fallback {\n",
              "  display: none;\n",
              "}\n",
              "\n",
              "div.sk-parallel-item,\n",
              "div.sk-serial,\n",
              "div.sk-item {\n",
              "  /* draw centered vertical line to link estimators */\n",
              "  background-image: linear-gradient(var(--sklearn-color-text-on-default-background), var(--sklearn-color-text-on-default-background));\n",
              "  background-size: 2px 100%;\n",
              "  background-repeat: no-repeat;\n",
              "  background-position: center center;\n",
              "}\n",
              "\n",
              "/* Parallel-specific style estimator block */\n",
              "\n",
              "#sk-container-id-1 div.sk-parallel-item::after {\n",
              "  content: \"\";\n",
              "  width: 100%;\n",
              "  border-bottom: 2px solid var(--sklearn-color-text-on-default-background);\n",
              "  flex-grow: 1;\n",
              "}\n",
              "\n",
              "#sk-container-id-1 div.sk-parallel {\n",
              "  display: flex;\n",
              "  align-items: stretch;\n",
              "  justify-content: center;\n",
              "  background-color: var(--sklearn-color-background);\n",
              "  position: relative;\n",
              "}\n",
              "\n",
              "#sk-container-id-1 div.sk-parallel-item {\n",
              "  display: flex;\n",
              "  flex-direction: column;\n",
              "}\n",
              "\n",
              "#sk-container-id-1 div.sk-parallel-item:first-child::after {\n",
              "  align-self: flex-end;\n",
              "  width: 50%;\n",
              "}\n",
              "\n",
              "#sk-container-id-1 div.sk-parallel-item:last-child::after {\n",
              "  align-self: flex-start;\n",
              "  width: 50%;\n",
              "}\n",
              "\n",
              "#sk-container-id-1 div.sk-parallel-item:only-child::after {\n",
              "  width: 0;\n",
              "}\n",
              "\n",
              "/* Serial-specific style estimator block */\n",
              "\n",
              "#sk-container-id-1 div.sk-serial {\n",
              "  display: flex;\n",
              "  flex-direction: column;\n",
              "  align-items: center;\n",
              "  background-color: var(--sklearn-color-background);\n",
              "  padding-right: 1em;\n",
              "  padding-left: 1em;\n",
              "}\n",
              "\n",
              "\n",
              "/* Toggleable style: style used for estimator/Pipeline/ColumnTransformer box that is\n",
              "clickable and can be expanded/collapsed.\n",
              "- Pipeline and ColumnTransformer use this feature and define the default style\n",
              "- Estimators will overwrite some part of the style using the `sk-estimator` class\n",
              "*/\n",
              "\n",
              "/* Pipeline and ColumnTransformer style (default) */\n",
              "\n",
              "#sk-container-id-1 div.sk-toggleable {\n",
              "  /* Default theme specific background. It is overwritten whether we have a\n",
              "  specific estimator or a Pipeline/ColumnTransformer */\n",
              "  background-color: var(--sklearn-color-background);\n",
              "}\n",
              "\n",
              "/* Toggleable label */\n",
              "#sk-container-id-1 label.sk-toggleable__label {\n",
              "  cursor: pointer;\n",
              "  display: block;\n",
              "  width: 100%;\n",
              "  margin-bottom: 0;\n",
              "  padding: 0.5em;\n",
              "  box-sizing: border-box;\n",
              "  text-align: center;\n",
              "}\n",
              "\n",
              "#sk-container-id-1 label.sk-toggleable__label-arrow:before {\n",
              "  /* Arrow on the left of the label */\n",
              "  content: \"▸\";\n",
              "  float: left;\n",
              "  margin-right: 0.25em;\n",
              "  color: var(--sklearn-color-icon);\n",
              "}\n",
              "\n",
              "#sk-container-id-1 label.sk-toggleable__label-arrow:hover:before {\n",
              "  color: var(--sklearn-color-text);\n",
              "}\n",
              "\n",
              "/* Toggleable content - dropdown */\n",
              "\n",
              "#sk-container-id-1 div.sk-toggleable__content {\n",
              "  max-height: 0;\n",
              "  max-width: 0;\n",
              "  overflow: hidden;\n",
              "  text-align: left;\n",
              "  /* unfitted */\n",
              "  background-color: var(--sklearn-color-unfitted-level-0);\n",
              "}\n",
              "\n",
              "#sk-container-id-1 div.sk-toggleable__content.fitted {\n",
              "  /* fitted */\n",
              "  background-color: var(--sklearn-color-fitted-level-0);\n",
              "}\n",
              "\n",
              "#sk-container-id-1 div.sk-toggleable__content pre {\n",
              "  margin: 0.2em;\n",
              "  border-radius: 0.25em;\n",
              "  color: var(--sklearn-color-text);\n",
              "  /* unfitted */\n",
              "  background-color: var(--sklearn-color-unfitted-level-0);\n",
              "}\n",
              "\n",
              "#sk-container-id-1 div.sk-toggleable__content.fitted pre {\n",
              "  /* unfitted */\n",
              "  background-color: var(--sklearn-color-fitted-level-0);\n",
              "}\n",
              "\n",
              "#sk-container-id-1 input.sk-toggleable__control:checked~div.sk-toggleable__content {\n",
              "  /* Expand drop-down */\n",
              "  max-height: 200px;\n",
              "  max-width: 100%;\n",
              "  overflow: auto;\n",
              "}\n",
              "\n",
              "#sk-container-id-1 input.sk-toggleable__control:checked~label.sk-toggleable__label-arrow:before {\n",
              "  content: \"▾\";\n",
              "}\n",
              "\n",
              "/* Pipeline/ColumnTransformer-specific style */\n",
              "\n",
              "#sk-container-id-1 div.sk-label input.sk-toggleable__control:checked~label.sk-toggleable__label {\n",
              "  color: var(--sklearn-color-text);\n",
              "  background-color: var(--sklearn-color-unfitted-level-2);\n",
              "}\n",
              "\n",
              "#sk-container-id-1 div.sk-label.fitted input.sk-toggleable__control:checked~label.sk-toggleable__label {\n",
              "  background-color: var(--sklearn-color-fitted-level-2);\n",
              "}\n",
              "\n",
              "/* Estimator-specific style */\n",
              "\n",
              "/* Colorize estimator box */\n",
              "#sk-container-id-1 div.sk-estimator input.sk-toggleable__control:checked~label.sk-toggleable__label {\n",
              "  /* unfitted */\n",
              "  background-color: var(--sklearn-color-unfitted-level-2);\n",
              "}\n",
              "\n",
              "#sk-container-id-1 div.sk-estimator.fitted input.sk-toggleable__control:checked~label.sk-toggleable__label {\n",
              "  /* fitted */\n",
              "  background-color: var(--sklearn-color-fitted-level-2);\n",
              "}\n",
              "\n",
              "#sk-container-id-1 div.sk-label label.sk-toggleable__label,\n",
              "#sk-container-id-1 div.sk-label label {\n",
              "  /* The background is the default theme color */\n",
              "  color: var(--sklearn-color-text-on-default-background);\n",
              "}\n",
              "\n",
              "/* On hover, darken the color of the background */\n",
              "#sk-container-id-1 div.sk-label:hover label.sk-toggleable__label {\n",
              "  color: var(--sklearn-color-text);\n",
              "  background-color: var(--sklearn-color-unfitted-level-2);\n",
              "}\n",
              "\n",
              "/* Label box, darken color on hover, fitted */\n",
              "#sk-container-id-1 div.sk-label.fitted:hover label.sk-toggleable__label.fitted {\n",
              "  color: var(--sklearn-color-text);\n",
              "  background-color: var(--sklearn-color-fitted-level-2);\n",
              "}\n",
              "\n",
              "/* Estimator label */\n",
              "\n",
              "#sk-container-id-1 div.sk-label label {\n",
              "  font-family: monospace;\n",
              "  font-weight: bold;\n",
              "  display: inline-block;\n",
              "  line-height: 1.2em;\n",
              "}\n",
              "\n",
              "#sk-container-id-1 div.sk-label-container {\n",
              "  text-align: center;\n",
              "}\n",
              "\n",
              "/* Estimator-specific */\n",
              "#sk-container-id-1 div.sk-estimator {\n",
              "  font-family: monospace;\n",
              "  border: 1px dotted var(--sklearn-color-border-box);\n",
              "  border-radius: 0.25em;\n",
              "  box-sizing: border-box;\n",
              "  margin-bottom: 0.5em;\n",
              "  /* unfitted */\n",
              "  background-color: var(--sklearn-color-unfitted-level-0);\n",
              "}\n",
              "\n",
              "#sk-container-id-1 div.sk-estimator.fitted {\n",
              "  /* fitted */\n",
              "  background-color: var(--sklearn-color-fitted-level-0);\n",
              "}\n",
              "\n",
              "/* on hover */\n",
              "#sk-container-id-1 div.sk-estimator:hover {\n",
              "  /* unfitted */\n",
              "  background-color: var(--sklearn-color-unfitted-level-2);\n",
              "}\n",
              "\n",
              "#sk-container-id-1 div.sk-estimator.fitted:hover {\n",
              "  /* fitted */\n",
              "  background-color: var(--sklearn-color-fitted-level-2);\n",
              "}\n",
              "\n",
              "/* Specification for estimator info (e.g. \"i\" and \"?\") */\n",
              "\n",
              "/* Common style for \"i\" and \"?\" */\n",
              "\n",
              ".sk-estimator-doc-link,\n",
              "a:link.sk-estimator-doc-link,\n",
              "a:visited.sk-estimator-doc-link {\n",
              "  float: right;\n",
              "  font-size: smaller;\n",
              "  line-height: 1em;\n",
              "  font-family: monospace;\n",
              "  background-color: var(--sklearn-color-background);\n",
              "  border-radius: 1em;\n",
              "  height: 1em;\n",
              "  width: 1em;\n",
              "  text-decoration: none !important;\n",
              "  margin-left: 1ex;\n",
              "  /* unfitted */\n",
              "  border: var(--sklearn-color-unfitted-level-1) 1pt solid;\n",
              "  color: var(--sklearn-color-unfitted-level-1);\n",
              "}\n",
              "\n",
              ".sk-estimator-doc-link.fitted,\n",
              "a:link.sk-estimator-doc-link.fitted,\n",
              "a:visited.sk-estimator-doc-link.fitted {\n",
              "  /* fitted */\n",
              "  border: var(--sklearn-color-fitted-level-1) 1pt solid;\n",
              "  color: var(--sklearn-color-fitted-level-1);\n",
              "}\n",
              "\n",
              "/* On hover */\n",
              "div.sk-estimator:hover .sk-estimator-doc-link:hover,\n",
              ".sk-estimator-doc-link:hover,\n",
              "div.sk-label-container:hover .sk-estimator-doc-link:hover,\n",
              ".sk-estimator-doc-link:hover {\n",
              "  /* unfitted */\n",
              "  background-color: var(--sklearn-color-unfitted-level-3);\n",
              "  color: var(--sklearn-color-background);\n",
              "  text-decoration: none;\n",
              "}\n",
              "\n",
              "div.sk-estimator.fitted:hover .sk-estimator-doc-link.fitted:hover,\n",
              ".sk-estimator-doc-link.fitted:hover,\n",
              "div.sk-label-container:hover .sk-estimator-doc-link.fitted:hover,\n",
              ".sk-estimator-doc-link.fitted:hover {\n",
              "  /* fitted */\n",
              "  background-color: var(--sklearn-color-fitted-level-3);\n",
              "  color: var(--sklearn-color-background);\n",
              "  text-decoration: none;\n",
              "}\n",
              "\n",
              "/* Span, style for the box shown on hovering the info icon */\n",
              ".sk-estimator-doc-link span {\n",
              "  display: none;\n",
              "  z-index: 9999;\n",
              "  position: relative;\n",
              "  font-weight: normal;\n",
              "  right: .2ex;\n",
              "  padding: .5ex;\n",
              "  margin: .5ex;\n",
              "  width: min-content;\n",
              "  min-width: 20ex;\n",
              "  max-width: 50ex;\n",
              "  color: var(--sklearn-color-text);\n",
              "  box-shadow: 2pt 2pt 4pt #999;\n",
              "  /* unfitted */\n",
              "  background: var(--sklearn-color-unfitted-level-0);\n",
              "  border: .5pt solid var(--sklearn-color-unfitted-level-3);\n",
              "}\n",
              "\n",
              ".sk-estimator-doc-link.fitted span {\n",
              "  /* fitted */\n",
              "  background: var(--sklearn-color-fitted-level-0);\n",
              "  border: var(--sklearn-color-fitted-level-3);\n",
              "}\n",
              "\n",
              ".sk-estimator-doc-link:hover span {\n",
              "  display: block;\n",
              "}\n",
              "\n",
              "/* \"?\"-specific style due to the `<a>` HTML tag */\n",
              "\n",
              "#sk-container-id-1 a.estimator_doc_link {\n",
              "  float: right;\n",
              "  font-size: 1rem;\n",
              "  line-height: 1em;\n",
              "  font-family: monospace;\n",
              "  background-color: var(--sklearn-color-background);\n",
              "  border-radius: 1rem;\n",
              "  height: 1rem;\n",
              "  width: 1rem;\n",
              "  text-decoration: none;\n",
              "  /* unfitted */\n",
              "  color: var(--sklearn-color-unfitted-level-1);\n",
              "  border: var(--sklearn-color-unfitted-level-1) 1pt solid;\n",
              "}\n",
              "\n",
              "#sk-container-id-1 a.estimator_doc_link.fitted {\n",
              "  /* fitted */\n",
              "  border: var(--sklearn-color-fitted-level-1) 1pt solid;\n",
              "  color: var(--sklearn-color-fitted-level-1);\n",
              "}\n",
              "\n",
              "/* On hover */\n",
              "#sk-container-id-1 a.estimator_doc_link:hover {\n",
              "  /* unfitted */\n",
              "  background-color: var(--sklearn-color-unfitted-level-3);\n",
              "  color: var(--sklearn-color-background);\n",
              "  text-decoration: none;\n",
              "}\n",
              "\n",
              "#sk-container-id-1 a.estimator_doc_link.fitted:hover {\n",
              "  /* fitted */\n",
              "  background-color: var(--sklearn-color-fitted-level-3);\n",
              "}\n",
              "</style><div id=\"sk-container-id-1\" class=\"sk-top-container\"><div class=\"sk-text-repr-fallback\"><pre>KMeans(n_clusters=3)</pre><b>In a Jupyter environment, please rerun this cell to show the HTML representation or trust the notebook. <br />On GitHub, the HTML representation is unable to render, please try loading this page with nbviewer.org.</b></div><div class=\"sk-container\" hidden><div class=\"sk-item\"><div class=\"sk-estimator fitted sk-toggleable\"><input class=\"sk-toggleable__control sk-hidden--visually\" id=\"sk-estimator-id-1\" type=\"checkbox\" checked><label for=\"sk-estimator-id-1\" class=\"sk-toggleable__label fitted sk-toggleable__label-arrow fitted\">&nbsp;&nbsp;KMeans<a class=\"sk-estimator-doc-link fitted\" rel=\"noreferrer\" target=\"_blank\" href=\"https://scikit-learn.org/1.5/modules/generated/sklearn.cluster.KMeans.html\">?<span>Documentation for KMeans</span></a><span class=\"sk-estimator-doc-link fitted\">i<span>Fitted</span></span></label><div class=\"sk-toggleable__content fitted\"><pre>KMeans(n_clusters=3)</pre></div> </div></div></div></div>"
            ]
          },
          "metadata": {},
          "execution_count": 3
        }
      ]
    },
    {
      "cell_type": "markdown",
      "metadata": {
        "id": "J-vymu0_Zdjw"
      },
      "source": [
        "Como a tarefa é simples, a execução é rápida.\n",
        "\n",
        "Agora podemos criar um gráfico para permitir a visualização dos clusters resultantes. Note que este dataset possui quatro features. Considerando que podemos criar gráficos de no máximo três dimensões, precisamos selecionar quais features serão plotadas. No nosso caso, vamos ignorar o comprimento da sépala e utilizar as demais features."
      ]
    },
    {
      "cell_type": "code",
      "metadata": {
        "id": "q67VcDX_VGVi",
        "colab": {
          "base_uri": "https://localhost:8080/"
        },
        "outputId": "f9c5215d-cd81-42b7-d798-8d15598199f5"
      },
      "source": [
        "print('Available features:', iris.feature_names)\n",
        "\n",
        "# for plotting, select only three features (as we can only plot three dimensions)\n",
        "features_to_plot = [3,0,2]\n",
        "feature_names = np.choose(features_to_plot, iris.feature_names)\n",
        "\n",
        "print('Features selected for plotting:',feature_names)\n",
        "\n",
        "assert len(features_to_plot) == 3"
      ],
      "execution_count": 4,
      "outputs": [
        {
          "output_type": "stream",
          "name": "stdout",
          "text": [
            "Available features: ['sepal length (cm)', 'sepal width (cm)', 'petal length (cm)', 'petal width (cm)']\n",
            "Features selected for plotting: ['petal width (cm)' 'sepal length (cm)' 'petal length (cm)']\n"
          ]
        }
      ]
    },
    {
      "cell_type": "markdown",
      "metadata": {
        "id": "9LcTQCEPaE9K"
      },
      "source": [
        "Antes de criar o gráfico, vamos definir as cores que utilizaremos para os clusters. Basta criar a lista abaixo com as cores (cuidando para que especificar uma cor para cada cluster)."
      ]
    },
    {
      "cell_type": "code",
      "metadata": {
        "id": "QqwvrDVcaGGH"
      },
      "source": [
        "colours = ['r', 'g', 'b']\n",
        "\n",
        "assert len(colours) == k"
      ],
      "execution_count": 5,
      "outputs": []
    },
    {
      "cell_type": "markdown",
      "metadata": {
        "id": "rM_7h9efaXLL"
      },
      "source": [
        "Agora sim podemos criar o gráfico utilizando os dados (`X`), os clusters encontrados (`kmeans.labels_`), e as cores definidas (`colours`).\n",
        "Note que, além de plotar os dados, estamos plotando também os centróides dos clusters (`kmeans.cluster_centers_`)."
      ]
    },
    {
      "cell_type": "code",
      "metadata": {
        "id": "mu6y27z2XW9l",
        "colab": {
          "base_uri": "https://localhost:8080/",
          "height": 34
        },
        "outputId": "d110f3dc-9b4b-4477-c7c7-4cf52255fc27"
      },
      "source": [
        "fig = plt.figure(figsize=(8, 6))\n",
        "ax = Axes3D(fig, rect=[0, 0, .95, 1], elev=48, azim=134)\n",
        "\n",
        "y_colours = np.choose(kmeans.labels_, colours) # colour of the data points\n",
        "\n",
        "ax.scatter(X[:, features_to_plot[0]], X[:, features_to_plot[1]], X[:, features_to_plot[2]], c=y_colours, edgecolor='k', s=50)\n",
        "ax.scatter(kmeans.cluster_centers_[:, 3], kmeans.cluster_centers_[:, 0], kmeans.cluster_centers_[:, 2], edgecolor='k', s=500, marker=(5,1), c=colours, depthshade=False)\n",
        "\n",
        "ax.set_xlabel(feature_names[0])\n",
        "ax.set_ylabel(feature_names[1])\n",
        "ax.set_zlabel(feature_names[2])\n",
        "\n",
        "fig.show()"
      ],
      "execution_count": 6,
      "outputs": [
        {
          "output_type": "display_data",
          "data": {
            "text/plain": [
              "<Figure size 800x600 with 0 Axes>"
            ]
          },
          "metadata": {}
        }
      ]
    },
    {
      "cell_type": "markdown",
      "metadata": {
        "id": "UkHiaEaWawst"
      },
      "source": [
        "Finalmente, para poder verificar o quão bom foi nosso algoritmo, podemos plotar também as classes reais de cada amostra. O processo aqui é parecido com o gráfico anterior. A diferença é que vamos definir a cor de cada amostra com base nas classes reais (`y`) ao invés das encontradas pelo algoritmo (`kmeans.labels_`)."
      ]
    },
    {
      "cell_type": "code",
      "metadata": {
        "id": "Tyex9lhSS2y8",
        "colab": {
          "base_uri": "https://localhost:8080/",
          "height": 34
        },
        "outputId": "e6800dc4-e16f-48a4-db8b-e4903f7e7a06"
      },
      "source": [
        "# Plot the ground truth\n",
        "fig = plt.figure(figsize=(8, 6))\n",
        "ax = Axes3D(fig, rect=[0, 0, .95, 1], elev=48, azim=134)\n",
        "\n",
        "y_colours = np.choose(y, colours) # colour of the data points\n",
        "\n",
        "ax.scatter(X[:, features_to_plot[0]], X[:, features_to_plot[1]], X[:, features_to_plot[2]], c=y_colours, edgecolor='k', s=50)\n",
        "\n",
        "ax.set_xlabel(feature_names[0])\n",
        "ax.set_ylabel(feature_names[1])\n",
        "ax.set_zlabel(feature_names[2])\n",
        "\n",
        "for name, label in [('Setosa', 0), ('Versicolour', 1), ('Virginica', 2)]:\n",
        "    ax.text3D(X[y == label, 3].mean()-0.3, X[y == label, 0].mean()+1.3, X[y == label, 2].mean(), name, horizontalalignment='center', bbox=dict(alpha=.2, edgecolor='w', facecolor='w'))\n",
        "\n",
        "fig.show()"
      ],
      "execution_count": 7,
      "outputs": [
        {
          "output_type": "display_data",
          "data": {
            "text/plain": [
              "<Figure size 800x600 with 0 Axes>"
            ]
          },
          "metadata": {}
        }
      ]
    },
    {
      "cell_type": "markdown",
      "metadata": {
        "id": "No1KPnDjbk8z"
      },
      "source": [
        "Como pode ser observado, os resultados obtidos são muito próximos dos rótulos reais. De fato, conforme visto abaixo, apenas 10.67% das amostras foram agrupadas de forma incorreta."
      ]
    },
    {
      "cell_type": "code",
      "metadata": {
        "id": "aRECjdRGblaW",
        "colab": {
          "base_uri": "https://localhost:8080/"
        },
        "outputId": "01951a1f-3821-42c4-e775-93a515df618c"
      },
      "source": [
        "y_out = kmeans.labels_ # predicted labels\n",
        "#y_adj = np.choose(y_out, [0,1,2]) # uncomment if you need to align predicted and true label numbers\n",
        "wrong = sum([ int(y[i] != y_out[i]) for i in range(len(y))]) # count mismatches\n",
        "\n",
        "print('True labels: %s' % y)\n",
        "print('k-means labels: %s' % y_out)\n",
        "print('Wrong classifications: %d (%.2f%%)' % (wrong, wrong/1.5))"
      ],
      "execution_count": 8,
      "outputs": [
        {
          "output_type": "stream",
          "name": "stdout",
          "text": [
            "True labels: [0 0 0 0 0 0 0 0 0 0 0 0 0 0 0 0 0 0 0 0 0 0 0 0 0 0 0 0 0 0 0 0 0 0 0 0 0\n",
            " 0 0 0 0 0 0 0 0 0 0 0 0 0 1 1 1 1 1 1 1 1 1 1 1 1 1 1 1 1 1 1 1 1 1 1 1 1\n",
            " 1 1 1 1 1 1 1 1 1 1 1 1 1 1 1 1 1 1 1 1 1 1 1 1 1 1 2 2 2 2 2 2 2 2 2 2 2\n",
            " 2 2 2 2 2 2 2 2 2 2 2 2 2 2 2 2 2 2 2 2 2 2 2 2 2 2 2 2 2 2 2 2 2 2 2 2 2\n",
            " 2 2]\n",
            "k-means labels: [0 0 0 0 0 0 0 0 0 0 0 0 0 0 0 0 0 0 0 0 0 0 0 0 0 0 0 0 0 0 0 0 0 0 0 0 0\n",
            " 0 0 0 0 0 0 0 0 0 0 0 0 0 1 2 1 2 2 2 2 2 2 2 2 2 2 2 2 2 2 2 2 2 2 2 2 2\n",
            " 2 2 2 1 2 2 2 2 2 2 2 2 2 2 2 2 2 2 2 2 2 2 2 2 2 2 1 2 1 1 1 1 2 1 1 1 1\n",
            " 1 1 2 2 1 1 1 1 2 1 2 1 2 1 1 2 2 1 1 1 1 1 2 1 1 1 1 2 1 1 1 2 1 1 1 2 1\n",
            " 1 2]\n",
            "Wrong classifications: 83 (55.33%)\n"
          ]
        }
      ]
    },
    {
      "cell_type": "markdown",
      "metadata": {
        "id": "_nZOqoUOzaf0"
      },
      "source": [
        "Finalmente, de modo a entender onde o algoritmo errou, podemos analisar a matriz de confusão gerada. O código abaixo faz precisamente isto."
      ]
    },
    {
      "cell_type": "code",
      "metadata": {
        "id": "j99pWuwZzPEF",
        "colab": {
          "base_uri": "https://localhost:8080/"
        },
        "outputId": "b9f13b08-8a8e-496d-f952-dcbadda622a5"
      },
      "source": [
        "confusion_matrix(y, y_out)"
      ],
      "execution_count": 9,
      "outputs": [
        {
          "output_type": "execute_result",
          "data": {
            "text/plain": [
              "array([[50,  0,  0],\n",
              "       [ 0,  3, 47],\n",
              "       [ 0, 36, 14]])"
            ]
          },
          "metadata": {},
          "execution_count": 9
        }
      ]
    },
    {
      "cell_type": "markdown",
      "metadata": {
        "id": "05KgcqRpyZcD"
      },
      "source": [
        "### Exercício 1\n",
        "\n",
        "Utilize o algoritmo k-means visto na parte 1 para agrupar os dígitos do dataset MNIST (use o método [load_digit](https://scikit-learn.org/stable/modules/generated/sklearn.datasets.load_digits.html#sklearn.datasets.load_digits)) em 10 clusters. Ao final, mostre algumas imagens de cada cluster para permitir uma melhor análise dos resultados."
      ]
    },
    {
      "cell_type": "code",
      "metadata": {
        "id": "WEjOO1JuyamY",
        "colab": {
          "base_uri": "https://localhost:8080/",
          "height": 829
        },
        "outputId": "e686516d-c1c5-461f-d8ca-e65f7dd2adc9"
      },
      "source": [
        "import numpy as np\n",
        "import matplotlib.pyplot as plt\n",
        "from sklearn.cluster import KMeans\n",
        "from sklearn import datasets\n",
        "\n",
        "digits = datasets.load_digits()\n",
        "\n",
        "X = digits.data\n",
        "y = digits.target\n",
        "\n",
        "k = 10\n",
        "kmeans = KMeans(n_clusters=k, random_state=42)\n",
        "kmeans.fit(X)\n",
        "\n",
        "labels = kmeans.labels_\n",
        "\n",
        "def plot_digits_clusters(kmeans, X, y, labels, n_images_per_cluster=5):\n",
        "    fig, axes = plt.subplots(k, n_images_per_cluster, figsize=(10, 10),\n",
        "                             subplot_kw={'xticks': [], 'yticks': []},\n",
        "                             gridspec_kw=dict(hspace=0.3, wspace=0.1))\n",
        "\n",
        "    for cluster in range(k):\n",
        "        cluster_images = X[labels == cluster]\n",
        "        for i in range(n_images_per_cluster):\n",
        "            if i < len(cluster_images):\n",
        "                ax = axes[cluster, i]\n",
        "                ax.imshow(cluster_images[i].reshape(8, 8), cmap='gray')\n",
        "                ax.set_title(f'Cluster {cluster}')\n",
        "\n",
        "plot_digits_clusters(kmeans, X, y, labels)\n",
        "plt.show()"
      ],
      "execution_count": 18,
      "outputs": [
        {
          "output_type": "display_data",
          "data": {
            "text/plain": [
              "<Figure size 1000x1000 with 50 Axes>"
            ],
            "image/png": "[encoded data removed]"
          },
          "metadata": {}
        }
      ]
    },
    {
      "cell_type": "markdown",
      "metadata": {
        "id": "9FFEviT_xilF"
      },
      "source": [
        "## Parte 2 - Aprendizado por reforço\n",
        "\n",
        "Na segunda parte deste notebook, implementaremos o algoritmo de aprendizado por reforço chamado Q-learning para resolver problemas fornecidos pelo [Open AI Gym](http://gym.openai.com/envs/).\n",
        "\n",
        "Primeiramente, precisamos importar algumas bibliotecas."
      ]
    },
    {
      "cell_type": "code",
      "metadata": {
        "id": "wclDBSIhx526",
        "colab": {
          "base_uri": "https://localhost:8080/"
        },
        "outputId": "51bddfcc-fdb1-4106-c643-ea6f3c2443e5"
      },
      "source": [
        "import gym\n",
        "import numpy as np\n",
        "import matplotlib.pyplot as plt\n",
        "!pip install pygame\n",
        "import pygame\n",
        "import os\n",
        "os.environ[\"SDL_VIDEODRIVER\"] = \"dummy\""
      ],
      "execution_count": 11,
      "outputs": [
        {
          "output_type": "stream",
          "name": "stdout",
          "text": [
            "Requirement already satisfied: pygame in /usr/local/lib/python3.10/dist-packages (2.6.1)\n"
          ]
        }
      ]
    },
    {
      "cell_type": "markdown",
      "metadata": {
        "id": "bk-J4vQgx6QY"
      },
      "source": [
        "Em nosso exemplo, tentaremos resolver o problema chamado Cliff Walking, apresentado na figura abaixo. Neste problema, o agente parte de S e deve chegar em G de uma forma eficiente, mas evitando o penhasco. Para cada passo, o agente recebe uma recompensa de -1. Caso o agente caia no penhasco, a recompensa é -100. O episódio termina quando o agente chega em G ou cai no penhasco. Naturalmente, o objetivo é chegar em G o mais rapidamente possível para maximizar sua recompensa.\n",
        "\n",
        "![alt text](https://i.imgur.com/2IobMYw.png)\n",
        "\n",
        "Para utilizar este ambiente com o Gym, basta executar o comando abaixo."
      ]
    },
    {
      "cell_type": "code",
      "metadata": {
        "id": "QBE5wf-Gx-FH",
        "colab": {
          "base_uri": "https://localhost:8080/"
        },
        "outputId": "7af47848-f72e-476c-b39c-3b8592ba2227"
      },
      "source": [
        "cliff_env = gym.make('CliffWalking-v0')"
      ],
      "execution_count": 12,
      "outputs": [
        {
          "output_type": "stream",
          "name": "stderr",
          "text": [
            "/usr/local/lib/python3.10/dist-packages/ipykernel/ipkernel.py:283: DeprecationWarning: `should_run_async` will not call `transform_cell` automatically in the future. Please pass the result to `transformed_cell` argument and any exception that happen during thetransform in `preprocessing_exc_tuple` in IPython 7.17 and above.\n",
            "  and should_run_async(code)\n",
            "/usr/local/lib/python3.10/dist-packages/gym/core.py:317: DeprecationWarning: \u001b[33mWARN: Initializing wrapper in old step API which returns one bool instead of two. It is recommended to set `new_step_api=True` to use new step API. This will be the default behaviour in future.\u001b[0m\n",
            "  deprecation(\n",
            "/usr/local/lib/python3.10/dist-packages/gym/wrappers/step_api_compatibility.py:39: DeprecationWarning: \u001b[33mWARN: Initializing environment in old step API which returns one bool instead of two. It is recommended to set `new_step_api=True` to use new step API. This will be the default behaviour in future.\u001b[0m\n",
            "  deprecation(\n"
          ]
        }
      ]
    },
    {
      "cell_type": "markdown",
      "metadata": {
        "id": "qj-gLEHcx-Pe"
      },
      "source": [
        "O ambiente pode ser reiniciado com a função `reset`. Podemos imprimir o estado atual do ambiente com a função `render`."
      ]
    },
    {
      "cell_type": "code",
      "metadata": {
        "id": "utpWGky4x-X6",
        "colab": {
          "base_uri": "https://localhost:8080/"
        },
        "outputId": "d8c82bc5-6610-499b-aaf5-b9635493103c"
      },
      "source": [
        "cliff_env.reset()\n",
        "cliff_env.render()"
      ],
      "execution_count": 13,
      "outputs": [
        {
          "output_type": "stream",
          "name": "stderr",
          "text": [
            "/usr/local/lib/python3.10/dist-packages/gym/core.py:49: DeprecationWarning: \u001b[33mWARN: You are calling render method, but you didn't specified the argument render_mode at environment initialization. To maintain backward compatibility, the environment will render in human mode.\n",
            "If you want to render in human mode, initialize the environment in this way: gym.make('EnvName', render_mode='human') and don't call the render method.\n",
            "See here for more information: https://www.gymlibrary.ml/content/api/\u001b[0m\n",
            "  deprecation(\n"
          ]
        }
      ]
    },
    {
      "cell_type": "markdown",
      "metadata": {
        "id": "t5fPINTFx-fb"
      },
      "source": [
        "O código abaixo implementa o algoritmo Q-learning. O pseudocódigo do Q-learning é apresentado abaixo.\n",
        "\n",
        "![alt text](https://i.imgur.com/9yydGca.png)\n",
        "\n",
        "Em nossa implementação, o algoritmo recebe um ambiente, uma quantidade de episódios, além dos parâmetros usuais $\\alpha$ (taxa de aprendizado), $\\gamma$ (taxa de desconto) e $\\epsilon$ (taxa de exploração)."
      ]
    },
    {
      "cell_type": "code",
      "metadata": {
        "id": "jYvl4qGIx-m8"
      },
      "source": [
        "def Qlearning(environment, num_episodes=100, alpha=0.3, gamma=0.9, epsilon=1.0, decay_epsilon=0.1, max_epsilon=1.0, min_epsilon=0.01):\n",
        "\n",
        "  # initializing the Q-table\n",
        "  Q = np.zeros((environment.observation_space.n, environment.action_space.n))\n",
        "\n",
        "  # additional lists to keep track of reward and epsilon values\n",
        "  rewards = []\n",
        "  epsilons = []\n",
        "\n",
        "  # episodes\n",
        "  for episode in range(num_episodes):\n",
        "\n",
        "      # reset the environment to start a new episode\n",
        "      state = environment.reset()\n",
        "\n",
        "      # reward accumulated along episode\n",
        "      accumulated_reward = 0\n",
        "\n",
        "      # steps within current episode\n",
        "      for step in range(100):\n",
        "\n",
        "          # epsilon-greedy action selection\n",
        "          # exploit with probability 1-epsilon\n",
        "          if np.random.uniform(0, 1) > epsilon:\n",
        "              action = np.argmax(Q[state,:])\n",
        "\n",
        "          # explore with probability epsilon\n",
        "          else:\n",
        "              action = environment.action_space.sample()\n",
        "\n",
        "          # perform the action and observe the new state and corresponding reward\n",
        "          new_state, reward, done, info = environment.step(action)\n",
        "\n",
        "\n",
        "          # update the Q-table\n",
        "          Q[state, action] = Q[state, action] + alpha * (reward + gamma * np.max(Q[new_state, :]) - Q[state, action])\n",
        "\n",
        "          # update the accumulated reward\n",
        "          accumulated_reward += reward\n",
        "\n",
        "          # update the current state\n",
        "          state = new_state\n",
        "\n",
        "          # end the episode when it is done\n",
        "          if done == True:\n",
        "              break\n",
        "\n",
        "      # decay exploration rate to ensure that the agent exploits more as it becomes experienced\n",
        "      epsilon = min_epsilon + (max_epsilon - min_epsilon)*np.exp(-decay_epsilon*episode)\n",
        "\n",
        "      # update the lists of rewards and epsilons\n",
        "      rewards.append(accumulated_reward)\n",
        "      epsilons.append(epsilon)\n",
        "\n",
        "  # render the environment\n",
        "  environment.render()\n",
        "\n",
        "  # return the list of accumulated reward along episodes\n",
        "  return rewards"
      ],
      "execution_count": 29,
      "outputs": []
    },
    {
      "cell_type": "markdown",
      "metadata": {
        "id": "0J7nCxb-x-ub"
      },
      "source": [
        "Para utilizar o Q-learning, basta chamá-lo como segue. No exemplo abaixo, vamos executar o algoritmo por 100 episódios. Ao final, calculamos a recompensa média total (ao longo de todos episódios) e a final (ao longo dos últimos 10 episódios)."
      ]
    },
    {
      "cell_type": "code",
      "metadata": {
        "id": "74oCsAkVx-1j",
        "colab": {
          "base_uri": "https://localhost:8080/"
        },
        "outputId": "ec857b9b-7bf8-4304-9c50-310bc2b0bd9c"
      },
      "source": [
        "num_episodes=100\n",
        "alpha=0.3\n",
        "gamma=0.9\n",
        "epsilon=1.0\n",
        "decay_epsilon=0.1\n",
        "\n",
        "# run Q-learning\n",
        "rewards = Qlearning(cliff_env, num_episodes, alpha, gamma, epsilon, decay_epsilon)\n",
        "\n",
        "# print results\n",
        "print (\"Average reward (all episodes): \" + str(sum(rewards)/num_episodes))\n",
        "print (\"Average reward (last 10 episodes): \" + str(sum(rewards[-10:])/10))"
      ],
      "execution_count": 25,
      "outputs": [
        {
          "output_type": "stream",
          "name": "stdout",
          "text": [
            "Average reward (all episodes): -128.48\n",
            "Average reward (last 10 episodes): -19.8\n"
          ]
        }
      ]
    },
    {
      "cell_type": "markdown",
      "metadata": {
        "id": "IIn6uG-Nx-8Q"
      },
      "source": [
        "Para avaliar o desempenho do algoritmo, podemos criar um gráfico da recompensa total por episódio."
      ]
    },
    {
      "cell_type": "code",
      "metadata": {
        "id": "6PBPnIpwx_Dc",
        "colab": {
          "base_uri": "https://localhost:8080/",
          "height": 449
        },
        "outputId": "8a9ef196-79b5-429b-e7c4-2cf7d1ee6f0d"
      },
      "source": [
        "plt.plot(range(num_episodes), rewards)\n",
        "plt.xlabel('Episodes')\n",
        "plt.ylabel('Accumulated reward along episodes')\n",
        "plt.show()"
      ],
      "execution_count": 26,
      "outputs": [
        {
          "output_type": "display_data",
          "data": {
            "text/plain": [
              "<Figure size 640x480 with 1 Axes>"
            ],
            "image/png": "[encoded data removed]"
          },
          "metadata": {}
        }
      ]
    },
    {
      "cell_type": "markdown",
      "metadata": {
        "id": "7bdBKRP8x_Mi"
      },
      "source": [
        "Com base no gráfico acima, podemos observar que o algoritmo converge para uma recompensa próxima de zero. Considerando que a recompensa máxima neste ambiente é -13, podemos dizer que o algoritmo convergiu para uma política próxima da ótima."
      ]
    },
    {
      "cell_type": "markdown",
      "metadata": {
        "id": "dEr33xqwp0Ki"
      },
      "source": [
        "### Exercício 2\n",
        "\n",
        "Ajuste os parâmetros do algoritmo Q-learning para obter melhores resultados. Em seguida, rode o algoritmo com a melhor política aprendida, ou seja, escolhendo as ações de forma gulosa."
      ]
    },
    {
      "cell_type": "code",
      "metadata": {
        "id": "wB2l_eRnp0Wh",
        "colab": {
          "base_uri": "https://localhost:8080/",
          "height": 681
        },
        "outputId": "81820875-97d0-4d40-b485-45ac5606c52d"
      },
      "source": [
        "num_episodes = 500  # Aumentando o número de episódios para dar mais tempo para aprender\n",
        "alpha = 0.1  # Taxa de aprendizado menor para uma convergência mais estável\n",
        "gamma = 0.99  # Valorizando mais as recompensas futuras\n",
        "epsilon = 1.0  # Iniciando com alta exploração\n",
        "decay_epsilon = 0.005  # Reduzindo a exploração mais devagar\n",
        "min_epsilon = 0.01  # Mantendo alguma exploração ao longo do tempo\n",
        "\n",
        "rewards = Qlearning(cliff_env, num_episodes, alpha, gamma, epsilon, decay_epsilon)\n",
        "\n",
        "print(\"Recompensa média (todos os episódios):\", sum(rewards)/num_episodes)\n",
        "print(\"Recompensa média (últimos 10 episódios):\", sum(rewards[-10:])/10)\n",
        "\n",
        "plt.plot(range(num_episodes), rewards)\n",
        "plt.xlabel('Episódios')\n",
        "plt.ylabel('Recompensa acumulada ao longo dos episódios')\n",
        "plt.title('Q-learning CliffWalking - Parâmetros ajustados')\n",
        "plt.show()\n"
      ],
      "execution_count": 30,
      "outputs": [
        {
          "output_type": "stream",
          "name": "stdout",
          "text": [
            "Episódio 1 | Recompensa acumulada: -13 | Passos: 13\n",
            "Episódio 2 | Recompensa acumulada: -13 | Passos: 13\n",
            "Episódio 3 | Recompensa acumulada: -13 | Passos: 13\n",
            "Episódio 4 | Recompensa acumulada: -13 | Passos: 13\n",
            "Episódio 5 | Recompensa acumulada: -13 | Passos: 13\n",
            "Episódio 6 | Recompensa acumulada: -13 | Passos: 13\n",
            "Episódio 7 | Recompensa acumulada: -13 | Passos: 13\n",
            "Episódio 8 | Recompensa acumulada: -13 | Passos: 13\n",
            "Episódio 9 | Recompensa acumulada: -13 | Passos: 13\n",
            "Episódio 10 | Recompensa acumulada: -13 | Passos: 13\n",
            "Recompensa média (todos os episódios): -287.832\n",
            "Recompensa média (últimos 10 episódios): -24.4\n"
          ]
        },
        {
          "output_type": "display_data",
          "data": {
            "text/plain": [
              "<Figure size 640x480 with 1 Axes>"
            ],
            "image/png": "[encoded data removed]"
          },
          "metadata": {}
        }
      ]
    },
    {
      "cell_type": "markdown",
      "metadata": {
        "id": "vk-kbZgFZRLv"
      },
      "source": [
        "## Referências\n",
        "\n"
      ]
    },
    {
      "cell_type": "markdown",
      "metadata": {
        "id": "J4LN3BZCzJyI"
      },
      "source": [
        "* https://scikit-learn.org/stable/auto_examples/cluster/plot_cluster_iris.html\n",
        "* https://machinelearningmastery.com/clustering-algorithms-with-python/"
      ]
    }
  ]
}